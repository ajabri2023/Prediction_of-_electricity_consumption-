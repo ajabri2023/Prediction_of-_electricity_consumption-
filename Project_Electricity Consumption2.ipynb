{
 "cells": [
  {
   "cell_type": "markdown",
   "metadata": {},
   "source": []
  },
  {
   "cell_type": "markdown",
   "metadata": {},
   "source": [
    "Notebook 2/2"
   ]
  },
  {
   "cell_type": "markdown",
   "metadata": {},
   "source": [
    "4. Verification and preparation of the training model to Deployment of the application\n",
    "step"
   ]
  },
  {
   "cell_type": "markdown",
   "metadata": {},
   "source": [
    "4.1)  checking dataframes"
   ]
  },
  {
   "cell_type": "markdown",
   "metadata": {},
   "source": [
    "In this part, we will check the reliability of the SARIMA model by comparing the forecast results with a given part of the game (df_test) which is not affected by the learning process (with SARIMA). and we will prepare the model for deployment."
   ]
  },
  {
   "cell_type": "code",
   "execution_count": 1,
   "metadata": {},
   "outputs": [],
   "source": [
    "#Libraries import \n",
    "import numpy as np\n",
    "import pandas as pd \n",
    "import matplotlib.pyplot as plt\n",
    "from datetime import date\n",
    "from datetime import datetime\n",
    "import matplotlib.dates as mdates\n",
    "import statsmodels\n",
    "from sklearn.metrics import mean_squared_error\n",
    "from statsmodels.tsa.arima.model import sarimax\n",
    "import warnings\n",
    "warnings.filterwarnings('ignore')"
   ]
  },
  {
   "cell_type": "code",
   "execution_count": 2,
   "metadata": {},
   "outputs": [],
   "source": [
    "# Dataset import \n",
    "# raw cosumption \n",
    "df1 = pd.read_csv(\"Brut consumption.csv\", sep=';', header=0, parse_dates=[0], index_col=0, decimal=',') \n",
    "# corrected consumption \n",
    "df2= pd.read_csv(\"Corre_consumption.csv\", sep=';', header=0, parse_dates=[0], index_col=0, decimal=',') \n",
    "#Removing columns 'Filière' \n",
    "df1=df1.drop(columns=['Filière'])\n",
    "df2=df2.drop(columns=['Filière'])"
   ]
  },
  {
   "cell_type": "code",
   "execution_count": 3,
   "metadata": {},
   "outputs": [],
   "source": [
    "# Dataframes preprocessing \n",
    "df_test=df2[108:118]\n",
    "df2.drop(df2.index[108:118], inplace=True)\n",
    "df=np.log(df2)"
   ]
  },
  {
   "cell_type": "code",
   "execution_count": 4,
   "metadata": {},
   "outputs": [
    {
     "data": {
      "text/plain": [
       "(108, 1)"
      ]
     },
     "execution_count": 4,
     "metadata": {},
     "output_type": "execute_result"
    }
   ],
   "source": [
    "df.shape"
   ]
  },
  {
   "cell_type": "code",
   "execution_count": 6,
   "metadata": {},
   "outputs": [
    {
     "data": {
      "text/html": [
       "<div>\n",
       "<style scoped>\n",
       "    .dataframe tbody tr th:only-of-type {\n",
       "        vertical-align: middle;\n",
       "    }\n",
       "\n",
       "    .dataframe tbody tr th {\n",
       "        vertical-align: top;\n",
       "    }\n",
       "\n",
       "    .dataframe thead th {\n",
       "        text-align: right;\n",
       "    }\n",
       "</style>\n",
       "<table border=\"1\" class=\"dataframe\">\n",
       "  <thead>\n",
       "    <tr style=\"text-align: right;\">\n",
       "      <th></th>\n",
       "      <th>Valeur (TWh)</th>\n",
       "    </tr>\n",
       "    <tr>\n",
       "      <th>Date</th>\n",
       "      <th></th>\n",
       "    </tr>\n",
       "  </thead>\n",
       "  <tbody>\n",
       "    <tr>\n",
       "      <th>2023-01-01</th>\n",
       "      <td>49.863</td>\n",
       "    </tr>\n",
       "    <tr>\n",
       "      <th>2023-02-01</th>\n",
       "      <td>42.121</td>\n",
       "    </tr>\n",
       "    <tr>\n",
       "      <th>2023-03-01</th>\n",
       "      <td>41.981</td>\n",
       "    </tr>\n",
       "    <tr>\n",
       "      <th>2023-04-01</th>\n",
       "      <td>34.072</td>\n",
       "    </tr>\n",
       "    <tr>\n",
       "      <th>2023-05-01</th>\n",
       "      <td>31.139</td>\n",
       "    </tr>\n",
       "    <tr>\n",
       "      <th>2023-06-01</th>\n",
       "      <td>30.035</td>\n",
       "    </tr>\n",
       "    <tr>\n",
       "      <th>2023-07-01</th>\n",
       "      <td>31.930</td>\n",
       "    </tr>\n",
       "    <tr>\n",
       "      <th>2023-08-01</th>\n",
       "      <td>30.312</td>\n",
       "    </tr>\n",
       "    <tr>\n",
       "      <th>2023-09-01</th>\n",
       "      <td>30.279</td>\n",
       "    </tr>\n",
       "    <tr>\n",
       "      <th>2023-10-01</th>\n",
       "      <td>34.506</td>\n",
       "    </tr>\n",
       "  </tbody>\n",
       "</table>\n",
       "</div>"
      ],
      "text/plain": [
       "            Valeur (TWh)\n",
       "Date                    \n",
       "2023-01-01        49.863\n",
       "2023-02-01        42.121\n",
       "2023-03-01        41.981\n",
       "2023-04-01        34.072\n",
       "2023-05-01        31.139\n",
       "2023-06-01        30.035\n",
       "2023-07-01        31.930\n",
       "2023-08-01        30.312\n",
       "2023-09-01        30.279\n",
       "2023-10-01        34.506"
      ]
     },
     "execution_count": 6,
     "metadata": {},
     "output_type": "execute_result"
    }
   ],
   "source": [
    "df_test"
   ]
  },
  {
   "cell_type": "code",
   "execution_count": 7,
   "metadata": {},
   "outputs": [],
   "source": [
    "\n",
    "from statsmodels.tsa.statespace.sarimax import SARIMAX\n",
    "# Dataset split \n",
    "size = int(len(df['Valeur (TWh)']) * 0.75)\n",
    "train1, test1 = df['Valeur (TWh)'][0:size], df['Valeur (TWh)'][size:len(df['Valeur (TWh)'])]\n",
    "test1 = test1.reset_index()['Valeur (TWh)']\n",
    "history1 = [x for x in train1]\n",
    "predictions1 = list()\n",
    "\n",
    "for t in range(len(test1)):\n",
    "    model1 = SARIMAX(history1\n",
    "                    , order=(1, 1, 1) # order = (p,d,q) AR(p)I(d)MA(q)\n",
    "                    , seasonal_order=(1, 1, 1, 12) # order = (P,D,Q,m) Seasonal AR(P)I(D)MA(Q) m Seasonal Period\n",
    "                    )\n",
    "    model_fit = model1.fit(disp=False)\n",
    "    output = model_fit.forecast()\n",
    "    yhat = output[0]\n",
    "    predictions1.append(yhat)\n",
    "    obs = test1[t]\n",
    "    history1.append(yhat)"
   ]
  },
  {
   "cell_type": "code",
   "execution_count": 8,
   "metadata": {},
   "outputs": [
    {
     "data": {
      "image/png": "[encoded data removed]",
      "text/plain": [
       "<Figure size 1200x800 with 1 Axes>"
      ]
     },
     "metadata": {},
     "output_type": "display_data"
    }
   ],
   "source": [
    "history1 = [x for x in train1]\n",
    "\n",
    "hist_pred1 = np.concatenate([history1, predictions1])\n",
    "hist_ts1 = np.concatenate([history1, test1]) \n",
    "H_pred1 = pd.DataFrame(hist_pred1, columns=['Values TWh'], index=df.index) #df.index=time axis \n",
    "H_test1=pd.DataFrame(hist_ts1, columns=['Values TWh'], index=df.index)\n",
    "plt.figure(figsize=(12,8))\n",
    "plt.plot(np.exp(H_pred1), label='Prediction')\n",
    "plt.plot(np.exp(H_test1), label='Test')\n",
    "plt.title(\"SARIMA prediction\")\n",
    "plt.legend()\n",
    "plt.show()"
   ]
  },
  {
   "cell_type": "markdown",
   "metadata": {},
   "source": [
    "###########################################################################################################################"
   ]
  },
  {
   "cell_type": "markdown",
   "metadata": {},
   "source": [
    "4.2) Preparation of  the df-test and df_forecating dataframes for final model verification"
   ]
  },
  {
   "cell_type": "code",
   "execution_count": 9,
   "metadata": {},
   "outputs": [
    {
     "data": {
      "text/html": [
       "<div>\n",
       "<style scoped>\n",
       "    .dataframe tbody tr th:only-of-type {\n",
       "        vertical-align: middle;\n",
       "    }\n",
       "\n",
       "    .dataframe tbody tr th {\n",
       "        vertical-align: top;\n",
       "    }\n",
       "\n",
       "    .dataframe thead th {\n",
       "        text-align: right;\n",
       "    }\n",
       "</style>\n",
       "<table border=\"1\" class=\"dataframe\">\n",
       "  <thead>\n",
       "    <tr style=\"text-align: right;\">\n",
       "      <th></th>\n",
       "      <th>Valeur (TWh)</th>\n",
       "    </tr>\n",
       "    <tr>\n",
       "      <th>Date</th>\n",
       "      <th></th>\n",
       "    </tr>\n",
       "  </thead>\n",
       "  <tbody>\n",
       "    <tr>\n",
       "      <th>2023-01-01</th>\n",
       "      <td>49.863</td>\n",
       "    </tr>\n",
       "    <tr>\n",
       "      <th>2023-02-01</th>\n",
       "      <td>42.121</td>\n",
       "    </tr>\n",
       "    <tr>\n",
       "      <th>2023-03-01</th>\n",
       "      <td>41.981</td>\n",
       "    </tr>\n",
       "    <tr>\n",
       "      <th>2023-04-01</th>\n",
       "      <td>34.072</td>\n",
       "    </tr>\n",
       "    <tr>\n",
       "      <th>2023-05-01</th>\n",
       "      <td>31.139</td>\n",
       "    </tr>\n",
       "    <tr>\n",
       "      <th>2023-06-01</th>\n",
       "      <td>30.035</td>\n",
       "    </tr>\n",
       "    <tr>\n",
       "      <th>2023-07-01</th>\n",
       "      <td>31.930</td>\n",
       "    </tr>\n",
       "    <tr>\n",
       "      <th>2023-08-01</th>\n",
       "      <td>30.312</td>\n",
       "    </tr>\n",
       "    <tr>\n",
       "      <th>2023-09-01</th>\n",
       "      <td>30.279</td>\n",
       "    </tr>\n",
       "    <tr>\n",
       "      <th>2023-10-01</th>\n",
       "      <td>34.506</td>\n",
       "    </tr>\n",
       "  </tbody>\n",
       "</table>\n",
       "</div>"
      ],
      "text/plain": [
       "            Valeur (TWh)\n",
       "Date                    \n",
       "2023-01-01        49.863\n",
       "2023-02-01        42.121\n",
       "2023-03-01        41.981\n",
       "2023-04-01        34.072\n",
       "2023-05-01        31.139\n",
       "2023-06-01        30.035\n",
       "2023-07-01        31.930\n",
       "2023-08-01        30.312\n",
       "2023-09-01        30.279\n",
       "2023-10-01        34.506"
      ]
     },
     "execution_count": 9,
     "metadata": {},
     "output_type": "execute_result"
    }
   ],
   "source": [
    "#The part not concerned by the learning process with SARIMA\n",
    "df_test"
   ]
  },
  {
   "cell_type": "code",
   "execution_count": 10,
   "metadata": {},
   "outputs": [
    {
     "data": {
      "text/html": [
       "<div>\n",
       "<style scoped>\n",
       "    .dataframe tbody tr th:only-of-type {\n",
       "        vertical-align: middle;\n",
       "    }\n",
       "\n",
       "    .dataframe tbody tr th {\n",
       "        vertical-align: top;\n",
       "    }\n",
       "\n",
       "    .dataframe thead th {\n",
       "        text-align: right;\n",
       "    }\n",
       "</style>\n",
       "<table border=\"1\" class=\"dataframe\">\n",
       "  <thead>\n",
       "    <tr style=\"text-align: right;\">\n",
       "      <th></th>\n",
       "      <th>Valeur (TWh)</th>\n",
       "    </tr>\n",
       "    <tr>\n",
       "      <th>Date</th>\n",
       "      <th></th>\n",
       "    </tr>\n",
       "  </thead>\n",
       "  <tbody>\n",
       "    <tr>\n",
       "      <th>2021-05-01</th>\n",
       "      <td>32.358</td>\n",
       "    </tr>\n",
       "    <tr>\n",
       "      <th>2021-06-01</th>\n",
       "      <td>31.775</td>\n",
       "    </tr>\n",
       "    <tr>\n",
       "      <th>2021-07-01</th>\n",
       "      <td>33.039</td>\n",
       "    </tr>\n",
       "    <tr>\n",
       "      <th>2021-08-01</th>\n",
       "      <td>31.281</td>\n",
       "    </tr>\n",
       "    <tr>\n",
       "      <th>2021-09-01</th>\n",
       "      <td>32.066</td>\n",
       "    </tr>\n",
       "    <tr>\n",
       "      <th>2021-10-01</th>\n",
       "      <td>36.557</td>\n",
       "    </tr>\n",
       "    <tr>\n",
       "      <th>2021-11-01</th>\n",
       "      <td>42.832</td>\n",
       "    </tr>\n",
       "    <tr>\n",
       "      <th>2021-12-01</th>\n",
       "      <td>50.760</td>\n",
       "    </tr>\n",
       "    <tr>\n",
       "      <th>2022-01-01</th>\n",
       "      <td>52.839</td>\n",
       "    </tr>\n",
       "    <tr>\n",
       "      <th>2022-02-01</th>\n",
       "      <td>45.310</td>\n",
       "    </tr>\n",
       "    <tr>\n",
       "      <th>2022-03-01</th>\n",
       "      <td>44.958</td>\n",
       "    </tr>\n",
       "    <tr>\n",
       "      <th>2022-04-01</th>\n",
       "      <td>36.295</td>\n",
       "    </tr>\n",
       "    <tr>\n",
       "      <th>2022-05-01</th>\n",
       "      <td>32.758</td>\n",
       "    </tr>\n",
       "    <tr>\n",
       "      <th>2022-06-01</th>\n",
       "      <td>31.773</td>\n",
       "    </tr>\n",
       "    <tr>\n",
       "      <th>2022-07-01</th>\n",
       "      <td>32.920</td>\n",
       "    </tr>\n",
       "    <tr>\n",
       "      <th>2022-08-01</th>\n",
       "      <td>30.816</td>\n",
       "    </tr>\n",
       "    <tr>\n",
       "      <th>2022-09-01</th>\n",
       "      <td>30.966</td>\n",
       "    </tr>\n",
       "    <tr>\n",
       "      <th>2022-10-01</th>\n",
       "      <td>34.300</td>\n",
       "    </tr>\n",
       "    <tr>\n",
       "      <th>2022-11-01</th>\n",
       "      <td>40.000</td>\n",
       "    </tr>\n",
       "    <tr>\n",
       "      <th>2022-12-01</th>\n",
       "      <td>46.719</td>\n",
       "    </tr>\n",
       "  </tbody>\n",
       "</table>\n",
       "</div>"
      ],
      "text/plain": [
       "            Valeur (TWh)\n",
       "Date                    \n",
       "2021-05-01        32.358\n",
       "2021-06-01        31.775\n",
       "2021-07-01        33.039\n",
       "2021-08-01        31.281\n",
       "2021-09-01        32.066\n",
       "2021-10-01        36.557\n",
       "2021-11-01        42.832\n",
       "2021-12-01        50.760\n",
       "2022-01-01        52.839\n",
       "2022-02-01        45.310\n",
       "2022-03-01        44.958\n",
       "2022-04-01        36.295\n",
       "2022-05-01        32.758\n",
       "2022-06-01        31.773\n",
       "2022-07-01        32.920\n",
       "2022-08-01        30.816\n",
       "2022-09-01        30.966\n",
       "2022-10-01        34.300\n",
       "2022-11-01        40.000\n",
       "2022-12-01        46.719"
      ]
     },
     "execution_count": 10,
     "metadata": {},
     "output_type": "execute_result"
    }
   ],
   "source": [
    "df2.tail(20)"
   ]
  },
  {
   "cell_type": "code",
   "execution_count": 11,
   "metadata": {},
   "outputs": [
    {
     "data": {
      "text/html": [
       "<div>\n",
       "<style scoped>\n",
       "    .dataframe tbody tr th:only-of-type {\n",
       "        vertical-align: middle;\n",
       "    }\n",
       "\n",
       "    .dataframe tbody tr th {\n",
       "        vertical-align: top;\n",
       "    }\n",
       "\n",
       "    .dataframe thead th {\n",
       "        text-align: right;\n",
       "    }\n",
       "</style>\n",
       "<table border=\"1\" class=\"dataframe\">\n",
       "  <thead>\n",
       "    <tr style=\"text-align: right;\">\n",
       "      <th></th>\n",
       "      <th>Valeur (TWh)</th>\n",
       "    </tr>\n",
       "    <tr>\n",
       "      <th>Date</th>\n",
       "      <th></th>\n",
       "    </tr>\n",
       "  </thead>\n",
       "  <tbody>\n",
       "    <tr>\n",
       "      <th>2014-01-01</th>\n",
       "      <td>53.223</td>\n",
       "    </tr>\n",
       "    <tr>\n",
       "      <th>2014-02-01</th>\n",
       "      <td>46.043</td>\n",
       "    </tr>\n",
       "    <tr>\n",
       "      <th>2014-03-01</th>\n",
       "      <td>45.010</td>\n",
       "    </tr>\n",
       "    <tr>\n",
       "      <th>2014-04-01</th>\n",
       "      <td>37.362</td>\n",
       "    </tr>\n",
       "    <tr>\n",
       "      <th>2014-05-01</th>\n",
       "      <td>33.712</td>\n",
       "    </tr>\n",
       "  </tbody>\n",
       "</table>\n",
       "</div>"
      ],
      "text/plain": [
       "            Valeur (TWh)\n",
       "Date                    \n",
       "2014-01-01        53.223\n",
       "2014-02-01        46.043\n",
       "2014-03-01        45.010\n",
       "2014-04-01        37.362\n",
       "2014-05-01        33.712"
      ]
     },
     "execution_count": 11,
     "metadata": {},
     "output_type": "execute_result"
    }
   ],
   "source": [
    "df2.head()"
   ]
  },
  {
   "cell_type": "code",
   "execution_count": 93,
   "metadata": {},
   "outputs": [
    {
     "data": {
      "text/plain": [
       "(108,)"
      ]
     },
     "execution_count": 93,
     "metadata": {},
     "output_type": "execute_result"
    }
   ],
   "source": [
    "# Focrcast function (Corrected consuption forcasting)\n",
    "Fotcasted=model_fit.predict(start=108, end=215, dynamic=True)\n",
    "Fotcasted.shape"
   ]
  },
  {
   "cell_type": "code",
   "execution_count": 94,
   "metadata": {},
   "outputs": [
    {
     "data": {
      "text/html": [
       "<div>\n",
       "<style scoped>\n",
       "    .dataframe tbody tr th:only-of-type {\n",
       "        vertical-align: middle;\n",
       "    }\n",
       "\n",
       "    .dataframe tbody tr th {\n",
       "        vertical-align: top;\n",
       "    }\n",
       "\n",
       "    .dataframe thead th {\n",
       "        text-align: right;\n",
       "    }\n",
       "</style>\n",
       "<table border=\"1\" class=\"dataframe\">\n",
       "  <thead>\n",
       "    <tr style=\"text-align: right;\">\n",
       "      <th></th>\n",
       "      <th>forcasted values</th>\n",
       "    </tr>\n",
       "  </thead>\n",
       "  <tbody>\n",
       "    <tr>\n",
       "      <th>0</th>\n",
       "      <td>3.908562</td>\n",
       "    </tr>\n",
       "    <tr>\n",
       "      <th>1</th>\n",
       "      <td>3.778870</td>\n",
       "    </tr>\n",
       "    <tr>\n",
       "      <th>2</th>\n",
       "      <td>3.725322</td>\n",
       "    </tr>\n",
       "    <tr>\n",
       "      <th>3</th>\n",
       "      <td>3.485585</td>\n",
       "    </tr>\n",
       "    <tr>\n",
       "      <th>4</th>\n",
       "      <td>3.398084</td>\n",
       "    </tr>\n",
       "    <tr>\n",
       "      <th>...</th>\n",
       "      <td>...</td>\n",
       "    </tr>\n",
       "    <tr>\n",
       "      <th>103</th>\n",
       "      <td>3.250164</td>\n",
       "    </tr>\n",
       "    <tr>\n",
       "      <th>104</th>\n",
       "      <td>3.278854</td>\n",
       "    </tr>\n",
       "    <tr>\n",
       "      <th>105</th>\n",
       "      <td>3.413112</td>\n",
       "    </tr>\n",
       "    <tr>\n",
       "      <th>106</th>\n",
       "      <td>3.566219</td>\n",
       "    </tr>\n",
       "    <tr>\n",
       "      <th>107</th>\n",
       "      <td>3.723724</td>\n",
       "    </tr>\n",
       "  </tbody>\n",
       "</table>\n",
       "<p>108 rows × 1 columns</p>\n",
       "</div>"
      ],
      "text/plain": [
       "     forcasted values\n",
       "0            3.908562\n",
       "1            3.778870\n",
       "2            3.725322\n",
       "3            3.485585\n",
       "4            3.398084\n",
       "..                ...\n",
       "103          3.250164\n",
       "104          3.278854\n",
       "105          3.413112\n",
       "106          3.566219\n",
       "107          3.723724\n",
       "\n",
       "[108 rows x 1 columns]"
      ]
     },
     "execution_count": 94,
     "metadata": {},
     "output_type": "execute_result"
    }
   ],
   "source": [
    "# From array to dataframe of forecasting \n",
    "df_forcasting=pd.DataFrame(Fotcasted, columns =['forcasted values'])\n",
    "df_forcasting\n"
   ]
  },
  {
   "cell_type": "code",
   "execution_count": 95,
   "metadata": {},
   "outputs": [
    {
     "data": {
      "text/plain": [
       "DatetimeIndex(['2023-01-31', '2023-02-28', '2023-03-31', '2023-04-30',\n",
       "               '2023-05-31', '2023-06-30', '2023-07-31', '2023-08-31',\n",
       "               '2023-09-30', '2023-10-31',\n",
       "               ...\n",
       "               '2031-03-31', '2031-04-30', '2031-05-31', '2031-06-30',\n",
       "               '2031-07-31', '2031-08-31', '2031-09-30', '2031-10-31',\n",
       "               '2031-11-30', '2031-12-31'],\n",
       "              dtype='datetime64[ns]', length=108, freq='M')"
      ]
     },
     "execution_count": 95,
     "metadata": {},
     "output_type": "execute_result"
    }
   ],
   "source": [
    "# Time fuction preparation 1\n",
    "Date_index=pd.date_range(start='2023-01', periods=108, freq='M')\n",
    "Date_index"
   ]
  },
  {
   "cell_type": "code",
   "execution_count": 96,
   "metadata": {},
   "outputs": [
    {
     "data": {
      "text/html": [
       "<div>\n",
       "<style scoped>\n",
       "    .dataframe tbody tr th:only-of-type {\n",
       "        vertical-align: middle;\n",
       "    }\n",
       "\n",
       "    .dataframe tbody tr th {\n",
       "        vertical-align: top;\n",
       "    }\n",
       "\n",
       "    .dataframe thead th {\n",
       "        text-align: right;\n",
       "    }\n",
       "</style>\n",
       "<table border=\"1\" class=\"dataframe\">\n",
       "  <thead>\n",
       "    <tr style=\"text-align: right;\">\n",
       "      <th></th>\n",
       "      <th>0</th>\n",
       "    </tr>\n",
       "  </thead>\n",
       "  <tbody>\n",
       "    <tr>\n",
       "      <th>0</th>\n",
       "      <td>2023-01-31</td>\n",
       "    </tr>\n",
       "    <tr>\n",
       "      <th>1</th>\n",
       "      <td>2023-02-28</td>\n",
       "    </tr>\n",
       "    <tr>\n",
       "      <th>2</th>\n",
       "      <td>2023-03-31</td>\n",
       "    </tr>\n",
       "    <tr>\n",
       "      <th>3</th>\n",
       "      <td>2023-04-30</td>\n",
       "    </tr>\n",
       "    <tr>\n",
       "      <th>4</th>\n",
       "      <td>2023-05-31</td>\n",
       "    </tr>\n",
       "  </tbody>\n",
       "</table>\n",
       "</div>"
      ],
      "text/plain": [
       "           0\n",
       "0 2023-01-31\n",
       "1 2023-02-28\n",
       "2 2023-03-31\n",
       "3 2023-04-30\n",
       "4 2023-05-31"
      ]
     },
     "execution_count": 96,
     "metadata": {},
     "output_type": "execute_result"
    }
   ],
   "source": [
    "# from array to dataframe (time)\n",
    "df_date=pd.DataFrame(Date_index)\n",
    "df_date.head()"
   ]
  },
  {
   "cell_type": "code",
   "execution_count": 98,
   "metadata": {},
   "outputs": [
    {
     "data": {
      "text/plain": [
       "0      2023/01\n",
       "1      2023/02\n",
       "2      2023/03\n",
       "3      2023/04\n",
       "4      2023/05\n",
       "        ...   \n",
       "103    2031/08\n",
       "104    2031/09\n",
       "105    2031/10\n",
       "106    2031/11\n",
       "107    2031/12\n",
       "Name: modified, Length: 108, dtype: object"
      ]
     },
     "execution_count": 98,
     "metadata": {},
     "output_type": "execute_result"
    }
   ],
   "source": [
    "# Date from YYYY/MM/DD to YYYY/MM\n",
    "df_date['modified']=df_date[0].dt.strftime('%Y/%m')\n",
    "df_date['modified']\n"
   ]
  },
  {
   "cell_type": "code",
   "execution_count": 99,
   "metadata": {},
   "outputs": [
    {
     "data": {
      "text/html": [
       "<div>\n",
       "<style scoped>\n",
       "    .dataframe tbody tr th:only-of-type {\n",
       "        vertical-align: middle;\n",
       "    }\n",
       "\n",
       "    .dataframe tbody tr th {\n",
       "        vertical-align: top;\n",
       "    }\n",
       "\n",
       "    .dataframe thead th {\n",
       "        text-align: right;\n",
       "    }\n",
       "</style>\n",
       "<table border=\"1\" class=\"dataframe\">\n",
       "  <thead>\n",
       "    <tr style=\"text-align: right;\">\n",
       "      <th></th>\n",
       "      <th>forcast_date</th>\n",
       "      <th>forcasted values</th>\n",
       "    </tr>\n",
       "  </thead>\n",
       "  <tbody>\n",
       "    <tr>\n",
       "      <th>0</th>\n",
       "      <td>2023/01</td>\n",
       "      <td>3.908562</td>\n",
       "    </tr>\n",
       "    <tr>\n",
       "      <th>1</th>\n",
       "      <td>2023/02</td>\n",
       "      <td>3.778870</td>\n",
       "    </tr>\n",
       "    <tr>\n",
       "      <th>2</th>\n",
       "      <td>2023/03</td>\n",
       "      <td>3.725322</td>\n",
       "    </tr>\n",
       "    <tr>\n",
       "      <th>3</th>\n",
       "      <td>2023/04</td>\n",
       "      <td>3.485585</td>\n",
       "    </tr>\n",
       "    <tr>\n",
       "      <th>4</th>\n",
       "      <td>2023/05</td>\n",
       "      <td>3.398084</td>\n",
       "    </tr>\n",
       "  </tbody>\n",
       "</table>\n",
       "</div>"
      ],
      "text/plain": [
       "  forcast_date  forcasted values\n",
       "0      2023/01          3.908562\n",
       "1      2023/02          3.778870\n",
       "2      2023/03          3.725322\n",
       "3      2023/04          3.485585\n",
       "4      2023/05          3.398084"
      ]
     },
     "execution_count": 99,
     "metadata": {},
     "output_type": "execute_result"
    }
   ],
   "source": [
    "# To data frame for casting \n",
    "df_forcasting=pd.DataFrame(Fotcasted, columns =['forcasted values'])\n",
    "\n",
    "df_forcasting['forcast_date']=df_date['modified']\n",
    "df_forcasting=df_forcasting.reindex(columns = ['forcast_date', 'forcasted values'])\n",
    "\n",
    "\n",
    "df_forcasting.head()\n",
    "\n"
   ]
  },
  {
   "cell_type": "code",
   "execution_count": 100,
   "metadata": {},
   "outputs": [
    {
     "data": {
      "text/plain": [
       "forcast_date        0\n",
       "forcasted values    0\n",
       "dtype: int64"
      ]
     },
     "execution_count": 100,
     "metadata": {},
     "output_type": "execute_result"
    }
   ],
   "source": [
    "df_forcasting.isnull().sum()"
   ]
  },
  {
   "cell_type": "code",
   "execution_count": 19,
   "metadata": {},
   "outputs": [
    {
     "data": {
      "text/html": [
       "<div>\n",
       "<style scoped>\n",
       "    .dataframe tbody tr th:only-of-type {\n",
       "        vertical-align: middle;\n",
       "    }\n",
       "\n",
       "    .dataframe tbody tr th {\n",
       "        vertical-align: top;\n",
       "    }\n",
       "\n",
       "    .dataframe thead th {\n",
       "        text-align: right;\n",
       "    }\n",
       "</style>\n",
       "<table border=\"1\" class=\"dataframe\">\n",
       "  <thead>\n",
       "    <tr style=\"text-align: right;\">\n",
       "      <th></th>\n",
       "      <th>forcast_date</th>\n",
       "      <th>forcasted values</th>\n",
       "    </tr>\n",
       "  </thead>\n",
       "  <tbody>\n",
       "    <tr>\n",
       "      <th>103</th>\n",
       "      <td>2031/08</td>\n",
       "      <td>3.250164</td>\n",
       "    </tr>\n",
       "    <tr>\n",
       "      <th>104</th>\n",
       "      <td>2031/09</td>\n",
       "      <td>3.278854</td>\n",
       "    </tr>\n",
       "    <tr>\n",
       "      <th>105</th>\n",
       "      <td>2031/10</td>\n",
       "      <td>3.413112</td>\n",
       "    </tr>\n",
       "    <tr>\n",
       "      <th>106</th>\n",
       "      <td>2031/11</td>\n",
       "      <td>3.566219</td>\n",
       "    </tr>\n",
       "    <tr>\n",
       "      <th>107</th>\n",
       "      <td>2031/12</td>\n",
       "      <td>3.723724</td>\n",
       "    </tr>\n",
       "  </tbody>\n",
       "</table>\n",
       "</div>"
      ],
      "text/plain": [
       "    forcast_date  forcasted values\n",
       "103      2031/08          3.250164\n",
       "104      2031/09          3.278854\n",
       "105      2031/10          3.413112\n",
       "106      2031/11          3.566219\n",
       "107      2031/12          3.723724"
      ]
     },
     "execution_count": 19,
     "metadata": {},
     "output_type": "execute_result"
    }
   ],
   "source": [
    "df_forcasting.tail()"
   ]
  },
  {
   "cell_type": "code",
   "execution_count": 101,
   "metadata": {},
   "outputs": [
    {
     "data": {
      "text/plain": [
       "DatetimeIndex(['2023-01-01', '2023-02-01', '2023-03-01', '2023-04-01',\n",
       "               '2023-05-01', '2023-06-01', '2023-07-01', '2023-08-01',\n",
       "               '2023-09-01', '2023-10-01'],\n",
       "              dtype='datetime64[ns]', name='Date', freq=None)"
      ]
     },
     "execution_count": 101,
     "metadata": {},
     "output_type": "execute_result"
    }
   ],
   "source": [
    "df_test.index"
   ]
  },
  {
   "cell_type": "markdown",
   "metadata": {},
   "source": [
    "4.3) Comparison of actual consumption with predicted consumption"
   ]
  },
  {
   "cell_type": "code",
   "execution_count": 103,
   "metadata": {},
   "outputs": [
    {
     "data": {
      "image/png": "[encoded data removed]",
      "text/plain": [
       "<Figure size 1200x800 with 1 Axes>"
      ]
     },
     "metadata": {},
     "output_type": "display_data"
    }
   ],
   "source": [
    "plt.figure(figsize=(12,8))\n",
    "Forcast = pd.DataFrame(np.exp(df_forcasting['forcasted values'][0:10].values), columns=['Values TWh'], index=df_test.index) #df.index=time axis \n",
    "Real=pd.DataFrame(df_test.values, columns=['Values TWh'], index=df_test.index)\n",
    "plt.plot((Forcast), label='forcasting')\n",
    "plt.plot(Real, label='Real result')\n",
    "plt.title(\"SARIMA prediction\")\n",
    "plt.legend()\n",
    "plt.show()"
   ]
  },
  {
   "cell_type": "code",
   "execution_count": 104,
   "metadata": {},
   "outputs": [
    {
     "data": {
      "text/html": [
       "<div>\n",
       "<style scoped>\n",
       "    .dataframe tbody tr th:only-of-type {\n",
       "        vertical-align: middle;\n",
       "    }\n",
       "\n",
       "    .dataframe tbody tr th {\n",
       "        vertical-align: top;\n",
       "    }\n",
       "\n",
       "    .dataframe thead th {\n",
       "        text-align: right;\n",
       "    }\n",
       "</style>\n",
       "<table border=\"1\" class=\"dataframe\">\n",
       "  <thead>\n",
       "    <tr style=\"text-align: right;\">\n",
       "      <th></th>\n",
       "      <th>Values TWh</th>\n",
       "    </tr>\n",
       "    <tr>\n",
       "      <th>Date</th>\n",
       "      <th></th>\n",
       "    </tr>\n",
       "  </thead>\n",
       "  <tbody>\n",
       "    <tr>\n",
       "      <th>2023-01-01</th>\n",
       "      <td>49.863</td>\n",
       "    </tr>\n",
       "    <tr>\n",
       "      <th>2023-02-01</th>\n",
       "      <td>42.121</td>\n",
       "    </tr>\n",
       "    <tr>\n",
       "      <th>2023-03-01</th>\n",
       "      <td>41.981</td>\n",
       "    </tr>\n",
       "    <tr>\n",
       "      <th>2023-04-01</th>\n",
       "      <td>34.072</td>\n",
       "    </tr>\n",
       "    <tr>\n",
       "      <th>2023-05-01</th>\n",
       "      <td>31.139</td>\n",
       "    </tr>\n",
       "  </tbody>\n",
       "</table>\n",
       "</div>"
      ],
      "text/plain": [
       "            Values TWh\n",
       "Date                  \n",
       "2023-01-01      49.863\n",
       "2023-02-01      42.121\n",
       "2023-03-01      41.981\n",
       "2023-04-01      34.072\n",
       "2023-05-01      31.139"
      ]
     },
     "execution_count": 104,
     "metadata": {},
     "output_type": "execute_result"
    }
   ],
   "source": [
    "Real.head()"
   ]
  },
  {
   "cell_type": "code",
   "execution_count": 105,
   "metadata": {},
   "outputs": [
    {
     "data": {
      "text/html": [
       "<div>\n",
       "<style scoped>\n",
       "    .dataframe tbody tr th:only-of-type {\n",
       "        vertical-align: middle;\n",
       "    }\n",
       "\n",
       "    .dataframe tbody tr th {\n",
       "        vertical-align: top;\n",
       "    }\n",
       "\n",
       "    .dataframe thead th {\n",
       "        text-align: right;\n",
       "    }\n",
       "</style>\n",
       "<table border=\"1\" class=\"dataframe\">\n",
       "  <thead>\n",
       "    <tr style=\"text-align: right;\">\n",
       "      <th></th>\n",
       "      <th>Values TWh</th>\n",
       "    </tr>\n",
       "    <tr>\n",
       "      <th>Date</th>\n",
       "      <th></th>\n",
       "    </tr>\n",
       "  </thead>\n",
       "  <tbody>\n",
       "    <tr>\n",
       "      <th>2023-01-01</th>\n",
       "      <td>49.827264</td>\n",
       "    </tr>\n",
       "    <tr>\n",
       "      <th>2023-02-01</th>\n",
       "      <td>43.766560</td>\n",
       "    </tr>\n",
       "    <tr>\n",
       "      <th>2023-03-01</th>\n",
       "      <td>41.484607</td>\n",
       "    </tr>\n",
       "    <tr>\n",
       "      <th>2023-04-01</th>\n",
       "      <td>32.641513</td>\n",
       "    </tr>\n",
       "    <tr>\n",
       "      <th>2023-05-01</th>\n",
       "      <td>29.906746</td>\n",
       "    </tr>\n",
       "  </tbody>\n",
       "</table>\n",
       "</div>"
      ],
      "text/plain": [
       "            Values TWh\n",
       "Date                  \n",
       "2023-01-01   49.827264\n",
       "2023-02-01   43.766560\n",
       "2023-03-01   41.484607\n",
       "2023-04-01   32.641513\n",
       "2023-05-01   29.906746"
      ]
     },
     "execution_count": 105,
     "metadata": {},
     "output_type": "execute_result"
    }
   ],
   "source": [
    "Forcast.head()"
   ]
  },
  {
   "cell_type": "code",
   "execution_count": 106,
   "metadata": {},
   "outputs": [
    {
     "name": "stdout",
     "output_type": "stream",
     "text": [
      "Mean squared error=0.8257106418305634\n"
     ]
    }
   ],
   "source": [
    "#MSE calculation\n",
    "MSE=mean_squared_error(Forcast , Real)\n",
    "print(f'Mean squared error={mean_squared_error(Forcast, Real)}')"
   ]
  },
  {
   "cell_type": "markdown",
   "metadata": {},
   "source": [
    "Comment :\n",
    "\n",
    "We can notice that there is a slight difference between the prediction results and those of reality. This does not call into question our model, but only we must act on the hyper-parameters (p, d,q) and (P,D,Q,s).\n",
    "By carrying out the evaluation with the MSE, we can notice that the margin of error increases with progress over time because we obtained a larger MSE than the MSE made on the training data set and the prediction."
   ]
  },
  {
   "cell_type": "markdown",
   "metadata": {},
   "source": [
    "4.4) correction coefficient\n"
   ]
  },
  {
   "cell_type": "markdown",
   "metadata": {},
   "source": [
    "df1: raw consumption \n",
    "\n",
    "df2: corrected consuption \n",
    "\n",
    "Coeff: correction coefficient \n",
    "\n",
    "Coeff=df2/df1 "
   ]
  },
  {
   "cell_type": "code",
   "execution_count": 107,
   "metadata": {},
   "outputs": [],
   "source": [
    "# Correction coefficient correction\n",
    "Coeff=df2/df1"
   ]
  },
  {
   "cell_type": "code",
   "execution_count": 108,
   "metadata": {},
   "outputs": [
    {
     "data": {
      "text/html": [
       "<div>\n",
       "<style scoped>\n",
       "    .dataframe tbody tr th:only-of-type {\n",
       "        vertical-align: middle;\n",
       "    }\n",
       "\n",
       "    .dataframe tbody tr th {\n",
       "        vertical-align: top;\n",
       "    }\n",
       "\n",
       "    .dataframe thead th {\n",
       "        text-align: right;\n",
       "    }\n",
       "</style>\n",
       "<table border=\"1\" class=\"dataframe\">\n",
       "  <thead>\n",
       "    <tr style=\"text-align: right;\">\n",
       "      <th></th>\n",
       "      <th>Valeur (TWh)</th>\n",
       "    </tr>\n",
       "    <tr>\n",
       "      <th>Date</th>\n",
       "      <th></th>\n",
       "    </tr>\n",
       "  </thead>\n",
       "  <tbody>\n",
       "    <tr>\n",
       "      <th>2014-01-01</th>\n",
       "      <td>1.081768</td>\n",
       "    </tr>\n",
       "    <tr>\n",
       "      <th>2014-02-01</th>\n",
       "      <td>1.037005</td>\n",
       "    </tr>\n",
       "    <tr>\n",
       "      <th>2014-03-01</th>\n",
       "      <td>1.051636</td>\n",
       "    </tr>\n",
       "    <tr>\n",
       "      <th>2014-04-01</th>\n",
       "      <td>1.034958</td>\n",
       "    </tr>\n",
       "    <tr>\n",
       "      <th>2014-05-01</th>\n",
       "      <td>0.977159</td>\n",
       "    </tr>\n",
       "    <tr>\n",
       "      <th>...</th>\n",
       "      <td>...</td>\n",
       "    </tr>\n",
       "    <tr>\n",
       "      <th>2022-08-01</th>\n",
       "      <td>0.969057</td>\n",
       "    </tr>\n",
       "    <tr>\n",
       "      <th>2022-09-01</th>\n",
       "      <td>0.976845</td>\n",
       "    </tr>\n",
       "    <tr>\n",
       "      <th>2022-10-01</th>\n",
       "      <td>1.065217</td>\n",
       "    </tr>\n",
       "    <tr>\n",
       "      <th>2022-11-01</th>\n",
       "      <td>1.084011</td>\n",
       "    </tr>\n",
       "    <tr>\n",
       "      <th>2022-12-01</th>\n",
       "      <td>1.017843</td>\n",
       "    </tr>\n",
       "  </tbody>\n",
       "</table>\n",
       "<p>108 rows × 1 columns</p>\n",
       "</div>"
      ],
      "text/plain": [
       "            Valeur (TWh)\n",
       "Date                    \n",
       "2014-01-01      1.081768\n",
       "2014-02-01      1.037005\n",
       "2014-03-01      1.051636\n",
       "2014-04-01      1.034958\n",
       "2014-05-01      0.977159\n",
       "...                  ...\n",
       "2022-08-01      0.969057\n",
       "2022-09-01      0.976845\n",
       "2022-10-01      1.065217\n",
       "2022-11-01      1.084011\n",
       "2022-12-01      1.017843\n",
       "\n",
       "[108 rows x 1 columns]"
      ]
     },
     "execution_count": 108,
     "metadata": {},
     "output_type": "execute_result"
    }
   ],
   "source": [
    "Coeff"
   ]
  },
  {
   "cell_type": "code",
   "execution_count": 109,
   "metadata": {},
   "outputs": [],
   "source": [
    "from statsmodels.tsa.statespace.sarimax import SARIMAX\n",
    "# Dataset split \n",
    "size = int(len(Coeff['Valeur (TWh)']) * 0.75)\n",
    "train_, test_ = Coeff['Valeur (TWh)'][0:size], Coeff['Valeur (TWh)'][size:len(Coeff['Valeur (TWh)'])]\n",
    "test_ = test_.reset_index()['Valeur (TWh)']\n",
    "history_ = [x for x in train_]\n",
    "predictions_ = list()\n",
    "\n",
    "for t in range(len(test_)):\n",
    "    model_ = SARIMAX(history_\n",
    "                    , order=(1, 1, 1) # order = (p,d,q) AR(p)I(d)MA(q)\n",
    "                    , seasonal_order=(1, 1, 1, 12) # order = (P,D,Q,m) Seasonal AR(P)I(D)MA(Q) m Seasonal Period\n",
    "                    )\n",
    "    model_fit_ = model_.fit(disp=False)\n",
    "    output_ = model_fit_.forecast()\n",
    "    yhat_ = output_[0]\n",
    "    predictions_.append(yhat_)\n",
    "    obs = test_[t]\n",
    "    history1.append(yhat_)"
   ]
  },
  {
   "cell_type": "code",
   "execution_count": 88,
   "metadata": {},
   "outputs": [
    {
     "data": {
      "text/plain": [
       "(108,)"
      ]
     },
     "execution_count": 88,
     "metadata": {},
     "output_type": "execute_result"
    }
   ],
   "source": [
    "# Focrcast function (Corrected consuption forcasting)\n",
    "pred_correc=model_fit_.predict(start=108, end=215, dynamic=True)\n",
    "pred_correc.shape"
   ]
  },
  {
   "cell_type": "code",
   "execution_count": 89,
   "metadata": {},
   "outputs": [
    {
     "data": {
      "text/plain": [
       "array([1.03233391, 1.01178707, 1.01867159, 1.00807991, 0.97331445,\n",
       "       0.99355032, 0.99499339, 0.99405861, 0.99579182, 1.00341673,\n",
       "       1.01729412, 1.05995766, 1.03201894, 1.01270648, 1.01794039,\n",
       "       1.00835987, 0.97262011, 0.99251133, 0.99403402, 0.99266775,\n",
       "       0.99439736, 1.00221051, 1.01652605, 1.05883604, 1.03084836,\n",
       "       1.01120725, 1.01688062, 1.00703089, 0.97155052, 0.99153351,\n",
       "       0.993035  , 0.99178361, 0.99351417, 1.00127721, 1.0154761 ,\n",
       "       1.05788022, 1.02990557, 1.01035196, 1.01590832, 1.00613027,\n",
       "       0.97058085, 0.9905394 , 0.99204653, 0.99076456, 0.99249487,\n",
       "       1.00027125, 1.01450119, 1.05688025, 1.02890213, 1.00932523,\n",
       "       1.01491274, 1.00511561, 0.96958457, 0.98954962, 0.99105526,\n",
       "       0.98978143, 0.9915118 , 0.99928463, 1.0135063 , 1.05589204,\n",
       "       1.02791484, 1.00834414, 1.01392336, 1.00413131, 0.96859537,\n",
       "       0.98855869, 0.99006473, 0.98878873, 0.99051909, 0.99829286,\n",
       "       1.01251674, 1.05490069, 1.02692325, 1.0073509 , 1.01293233,\n",
       "       1.00313892, 0.96760429, 0.98756807, 0.989074  , 0.98779858,\n",
       "       0.98952895, 0.99730246, 1.01152575, 1.05391018, 1.02593281,\n",
       "       1.0063609 , 1.01194174, 1.00214869, 0.96661371, 0.98657737,\n",
       "       0.98808333, 0.98680775, 0.98853812, 0.9963117 , 1.01053515,\n",
       "       1.05291945, 1.02494206, 1.00537003, 1.01095103, 1.00115788,\n",
       "       0.965623  , 0.98558669, 0.98709264, 0.98581711, 0.98754747,\n",
       "       0.99532104, 1.00954444, 1.05192878])"
      ]
     },
     "execution_count": 89,
     "metadata": {},
     "output_type": "execute_result"
    }
   ],
   "source": [
    "pred_correc"
   ]
  },
  {
   "cell_type": "code",
   "execution_count": 111,
   "metadata": {},
   "outputs": [],
   "source": [
    "df_forcasting = df_forcasting.assign(Correc_coefficient=pred_correc)"
   ]
  },
  {
   "cell_type": "code",
   "execution_count": 113,
   "metadata": {},
   "outputs": [
    {
     "data": {
      "text/html": [
       "<div>\n",
       "<style scoped>\n",
       "    .dataframe tbody tr th:only-of-type {\n",
       "        vertical-align: middle;\n",
       "    }\n",
       "\n",
       "    .dataframe tbody tr th {\n",
       "        vertical-align: top;\n",
       "    }\n",
       "\n",
       "    .dataframe thead th {\n",
       "        text-align: right;\n",
       "    }\n",
       "</style>\n",
       "<table border=\"1\" class=\"dataframe\">\n",
       "  <thead>\n",
       "    <tr style=\"text-align: right;\">\n",
       "      <th></th>\n",
       "      <th>forcast_date</th>\n",
       "      <th>forcasted values</th>\n",
       "      <th>Correc_coefficient</th>\n",
       "    </tr>\n",
       "  </thead>\n",
       "  <tbody>\n",
       "    <tr>\n",
       "      <th>0</th>\n",
       "      <td>2023/01</td>\n",
       "      <td>3.908562</td>\n",
       "      <td>1.032334</td>\n",
       "    </tr>\n",
       "    <tr>\n",
       "      <th>1</th>\n",
       "      <td>2023/02</td>\n",
       "      <td>3.778870</td>\n",
       "      <td>1.011787</td>\n",
       "    </tr>\n",
       "    <tr>\n",
       "      <th>2</th>\n",
       "      <td>2023/03</td>\n",
       "      <td>3.725322</td>\n",
       "      <td>1.018672</td>\n",
       "    </tr>\n",
       "    <tr>\n",
       "      <th>3</th>\n",
       "      <td>2023/04</td>\n",
       "      <td>3.485585</td>\n",
       "      <td>1.008080</td>\n",
       "    </tr>\n",
       "    <tr>\n",
       "      <th>4</th>\n",
       "      <td>2023/05</td>\n",
       "      <td>3.398084</td>\n",
       "      <td>0.973314</td>\n",
       "    </tr>\n",
       "    <tr>\n",
       "      <th>...</th>\n",
       "      <td>...</td>\n",
       "      <td>...</td>\n",
       "      <td>...</td>\n",
       "    </tr>\n",
       "    <tr>\n",
       "      <th>103</th>\n",
       "      <td>2031/08</td>\n",
       "      <td>3.250164</td>\n",
       "      <td>0.985817</td>\n",
       "    </tr>\n",
       "    <tr>\n",
       "      <th>104</th>\n",
       "      <td>2031/09</td>\n",
       "      <td>3.278854</td>\n",
       "      <td>0.987547</td>\n",
       "    </tr>\n",
       "    <tr>\n",
       "      <th>105</th>\n",
       "      <td>2031/10</td>\n",
       "      <td>3.413112</td>\n",
       "      <td>0.995321</td>\n",
       "    </tr>\n",
       "    <tr>\n",
       "      <th>106</th>\n",
       "      <td>2031/11</td>\n",
       "      <td>3.566219</td>\n",
       "      <td>1.009544</td>\n",
       "    </tr>\n",
       "    <tr>\n",
       "      <th>107</th>\n",
       "      <td>2031/12</td>\n",
       "      <td>3.723724</td>\n",
       "      <td>1.051929</td>\n",
       "    </tr>\n",
       "  </tbody>\n",
       "</table>\n",
       "<p>108 rows × 3 columns</p>\n",
       "</div>"
      ],
      "text/plain": [
       "    forcast_date  forcasted values  Correc_coefficient\n",
       "0        2023/01          3.908562            1.032334\n",
       "1        2023/02          3.778870            1.011787\n",
       "2        2023/03          3.725322            1.018672\n",
       "3        2023/04          3.485585            1.008080\n",
       "4        2023/05          3.398084            0.973314\n",
       "..           ...               ...                 ...\n",
       "103      2031/08          3.250164            0.985817\n",
       "104      2031/09          3.278854            0.987547\n",
       "105      2031/10          3.413112            0.995321\n",
       "106      2031/11          3.566219            1.009544\n",
       "107      2031/12          3.723724            1.051929\n",
       "\n",
       "[108 rows x 3 columns]"
      ]
     },
     "execution_count": 113,
     "metadata": {},
     "output_type": "execute_result"
    }
   ],
   "source": [
    "df_forcasting"
   ]
  },
  {
   "cell_type": "markdown",
   "metadata": {},
   "source": [
    "4.5)User Interface (primtive version)"
   ]
  },
  {
   "cell_type": "code",
   "execution_count": 35,
   "metadata": {},
   "outputs": [],
   "source": [
    "\n",
    "#Data inputs\n",
    "from datetime import datetime\n",
    "import time\n",
    "Year=input('Year of prediction:')\n",
    "Month= input('Month of prediction')\n",
    "a=Year+'/'+Month\n",
    "print(a)\n",
    "A = datetime.strptime(a, '%Y/%m')\n"
   ]
  },
  {
   "cell_type": "code",
   "execution_count": 32,
   "metadata": {},
   "outputs": [
    {
     "name": "stdout",
     "output_type": "stream",
     "text": [
      "108\n",
      "2023/07\n",
      "2023/07\n",
      "31.381300441453632\n",
      "3.4462121881751258\n"
     ]
    }
   ],
   "source": [
    "# Test loop A\n",
    "\n",
    "date_target=df_forcasting['forcast_date'].values\n",
    "forcasted_values=df_forcasting['forcasted values'].values\n",
    "print(len(date_target))\n",
    "i=0\n",
    "for i in range(len(date_target)):\n",
    "    #B=datetime.datetime.strptime(str(date_target[i]), '%Y/%m')\n",
    "    b=str(date_target[i])\n",
    "    if b==a:\n",
    "     print(b)\n",
    "     print(a)\n",
    "\n",
    "     print(np.exp(forcasted_values[i]))   # convert result by exp. \n",
    "     print((forcasted_values[i]))\n",
    "\n"
   ]
  },
  {
   "cell_type": "code",
   "execution_count": 114,
   "metadata": {},
   "outputs": [
    {
     "data": {
      "text/html": [
       "<div>\n",
       "<style scoped>\n",
       "    .dataframe tbody tr th:only-of-type {\n",
       "        vertical-align: middle;\n",
       "    }\n",
       "\n",
       "    .dataframe tbody tr th {\n",
       "        vertical-align: top;\n",
       "    }\n",
       "\n",
       "    .dataframe thead th {\n",
       "        text-align: right;\n",
       "    }\n",
       "</style>\n",
       "<table border=\"1\" class=\"dataframe\">\n",
       "  <thead>\n",
       "    <tr style=\"text-align: right;\">\n",
       "      <th></th>\n",
       "      <th>forcast_date</th>\n",
       "      <th>forcasted values</th>\n",
       "      <th>Correc_coefficient</th>\n",
       "    </tr>\n",
       "  </thead>\n",
       "  <tbody>\n",
       "    <tr>\n",
       "      <th>0</th>\n",
       "      <td>2023/01</td>\n",
       "      <td>3.908562</td>\n",
       "      <td>1.032334</td>\n",
       "    </tr>\n",
       "    <tr>\n",
       "      <th>1</th>\n",
       "      <td>2023/02</td>\n",
       "      <td>3.778870</td>\n",
       "      <td>1.011787</td>\n",
       "    </tr>\n",
       "    <tr>\n",
       "      <th>2</th>\n",
       "      <td>2023/03</td>\n",
       "      <td>3.725322</td>\n",
       "      <td>1.018672</td>\n",
       "    </tr>\n",
       "    <tr>\n",
       "      <th>3</th>\n",
       "      <td>2023/04</td>\n",
       "      <td>3.485585</td>\n",
       "      <td>1.008080</td>\n",
       "    </tr>\n",
       "    <tr>\n",
       "      <th>4</th>\n",
       "      <td>2023/05</td>\n",
       "      <td>3.398084</td>\n",
       "      <td>0.973314</td>\n",
       "    </tr>\n",
       "  </tbody>\n",
       "</table>\n",
       "</div>"
      ],
      "text/plain": [
       "  forcast_date  forcasted values  Correc_coefficient\n",
       "0      2023/01          3.908562            1.032334\n",
       "1      2023/02          3.778870            1.011787\n",
       "2      2023/03          3.725322            1.018672\n",
       "3      2023/04          3.485585            1.008080\n",
       "4      2023/05          3.398084            0.973314"
      ]
     },
     "execution_count": 114,
     "metadata": {},
     "output_type": "execute_result"
    }
   ],
   "source": [
    "df_forcasting.head()"
   ]
  },
  {
   "cell_type": "markdown",
   "metadata": {},
   "source": [
    "IV. Deployment of the application\n",
    "\n",
    "At this phase, our project is ready for deployment as a web-app application/ API interface, or storage in a Devops container or for storage on the Cloud."
   ]
  },
  {
   "cell_type": "markdown",
   "metadata": {},
   "source": [
    "Conclusion: \n",
    "\n",
    "During the different stages of this project, we were able to create a prediction model for monthly electricity consumption in France using artificial intelligence techniques (Machine Learning).\n",
    "Initially, we used two csv files as a data source (dataset), using Python's Pandas library to clean, explore and prepare the dataset.\n",
    "Data preparation made it easier for us to carry out the preprocessing of the studied time series. The preprocessing of time series allows us two learning models widely used for modeling time series.\n",
    "After testing the models, we chose the SARIMA algorithm. The model we will adopt in the deployment version."
   ]
  }
 ],
 "metadata": {
  "kernelspec": {
   "display_name": "Python 3",
   "language": "python",
   "name": "python3"
  },
  "language_info": {
   "codemirror_mode": {
    "name": "ipython",
    "version": 3
   },
   "file_extension": ".py",
   "mimetype": "text/x-python",
   "name": "python",
   "nbconvert_exporter": "python",
   "pygments_lexer": "ipython3",
   "version": "3.10.11"
  }
 },
 "nbformat": 4,
 "nbformat_minor": 2
}
